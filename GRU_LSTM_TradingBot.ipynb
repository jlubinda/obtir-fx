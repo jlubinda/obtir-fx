{
 "cells": [
  {
   "cell_type": "markdown",
   "id": "234328d9",
   "metadata": {},
   "source": [
    "# FOREX TRADING BOT USING A GRU, AND A GRU-LSTM MODEL\n",
    "\n",
    "## BY JOSEPH S. LUBINDA"
   ]
  },
  {
   "cell_type": "markdown",
   "id": "215235d4",
   "metadata": {},
   "source": [
    "We install the required libraries"
   ]
  },
  {
   "cell_type": "code",
   "execution_count": null,
   "id": "9356073b",
   "metadata": {},
   "outputs": [],
   "source": [
    "!mkdir patterns\n",
    "!mkdir dataframes\n",
    "#!pip install dataframe-sql\n",
    "#!conda install ibis-framework -c conda-forge\n",
    "#!pip install sql_to_ibis\n",
    "!pip3 install derby\n",
    "!pip3 install pyarrow \n",
    "!pip3 install pandas_datareader\n",
    "!pip3 install yfinance\n",
    "!pip3 install hurst\n",
    "\n",
    "!pip3 install ipywidgets\n",
    "!pip3 install python-engineio==3.9\n",
    "!pip3 install python-socketio==4.4.0\n",
    "!pip3 install fxcmpy"
   ]
  },
  {
   "cell_type": "markdown",
   "id": "09ecaa61",
   "metadata": {},
   "source": [
    " "
   ]
  },
  {
   "cell_type": "markdown",
   "id": "b8ab26f5",
   "metadata": {},
   "source": [
    "Activate Jupyter extentions"
   ]
  },
  {
   "cell_type": "code",
   "execution_count": null,
   "id": "e32aadfb",
   "metadata": {},
   "outputs": [],
   "source": [
    "!jupyter nbextension install --py widgetsnbextension --user\n",
    "!jupyter nbextension enable widgetsnbextension --user --py"
   ]
  },
  {
   "cell_type": "markdown",
   "id": "9af06ae3",
   "metadata": {},
   "source": [
    " "
   ]
  },
  {
   "cell_type": "markdown",
   "id": "51d11e51",
   "metadata": {},
   "source": [
    "We import the required libraries"
   ]
  },
  {
   "cell_type": "code",
   "execution_count": 1,
   "id": "93eb912c",
   "metadata": {},
   "outputs": [],
   "source": [
    "# Load the necessary packages and modules\n",
    "\n",
    "import zipfile\n",
    "\n",
    "from numpy import cumsum, log, polyfit, sqrt, std, subtract, array, argmax\n",
    "from numpy.random import randn\n",
    "import numpy as np  # useful for many scientific computing in Python\n",
    "\n",
    "import hashlib\n",
    "\n",
    "#import talib\n",
    "\n",
    "import pandas as pd # primary data structure library\n",
    "from pandas_datareader import data as pdr\n",
    "import yfinance\n",
    "\n",
    "%matplotlib inline\n",
    "import matplotlib.pyplot as plt\n",
    "\n",
    "import sklearn\n",
    "import sklearn.preprocessing\n",
    "import sklearn.metrics as metrics\n",
    "from sklearn.metrics import r2_score\n",
    "from sklearn.preprocessing import StandardScaler, MinMaxScaler, OneHotEncoder, LabelEncoder\n",
    "\n",
    "import tensorflow as tf\n",
    "import tensorflow.keras.backend as K\n",
    "from tensorflow.keras.models import Sequential\n",
    "from tensorflow.keras.callbacks import EarlyStopping\n",
    "from tensorflow.keras.optimizers import Adam\n",
    "from tensorflow.keras.layers import GRU, LSTM, Bidirectional, Dense, Dropout\n",
    "import tensorflow.keras as keras\n",
    "\n",
    "import math\n",
    "import datetime\n",
    "import os\n",
    "\n",
    "import fxcmpy"
   ]
  },
  {
   "cell_type": "markdown",
   "id": "11471a15",
   "metadata": {},
   "source": [
    "  "
   ]
  },
  {
   "cell_type": "markdown",
   "id": "a46297ff",
   "metadata": {},
   "source": [
    "Create function for saving dataset to a parquet file"
   ]
  },
  {
   "cell_type": "code",
   "execution_count": 2,
   "id": "c7320c6a",
   "metadata": {},
   "outputs": [],
   "source": [
    "def saveDataframeToParquet(new_series_df,new_name,drive_dir='./'):\n",
    "    pingInfoFilePath = drive_dir+\"dataframes/\"+new_name+\".parquet\"\n",
    "    new_series_df.to_parquet(pingInfoFilePath,engine='pyarrow')"
   ]
  },
  {
   "cell_type": "markdown",
   "id": "cb34bb56",
   "metadata": {},
   "source": [
    " "
   ]
  },
  {
   "cell_type": "markdown",
   "id": "5dc44b8f",
   "metadata": {},
   "source": [
    "Create function for reading saved parquet data to a dataframe"
   ]
  },
  {
   "cell_type": "code",
   "execution_count": 3,
   "id": "a32c00ef",
   "metadata": {},
   "outputs": [],
   "source": [
    "def readSavedDataframes(new_name,drive_dir='./'):\n",
    "    pingInfoFilePath = drive_dir+\"dataframes/\"+new_name+\".parquet\"\n",
    "    try:\n",
    "        with open(pingInfoFilePath) as f:\n",
    "            return pd.read_parquet(pingInfoFilePath, engine='pyarrow')\n",
    "    except IOError:\n",
    "        return 'nil'"
   ]
  },
  {
   "cell_type": "markdown",
   "id": "fc0769c4",
   "metadata": {},
   "source": [
    " "
   ]
  },
  {
   "cell_type": "markdown",
   "id": "dca1c548",
   "metadata": {},
   "source": [
    "Initiate Scaler"
   ]
  },
  {
   "cell_type": "code",
   "execution_count": 4,
   "id": "420a919e",
   "metadata": {},
   "outputs": [],
   "source": [
    "sc = StandardScaler()\n",
    "\n",
    "def adj_r2_score(r2, n, k):\n",
    "    return 1-((1-r2)*((n-1)/(n-k-1)))"
   ]
  },
  {
   "cell_type": "markdown",
   "id": "4b6e8a0c",
   "metadata": {},
   "source": [
    " "
   ]
  },
  {
   "cell_type": "markdown",
   "id": "06d933b5",
   "metadata": {},
   "source": [
    "Import Data from CSV file"
   ]
  },
  {
   "cell_type": "code",
   "execution_count": null,
   "id": "6efd94de",
   "metadata": {},
   "outputs": [],
   "source": [
    "df = pd.read_csv('eurusd_minute.csv')\n",
    "\n",
    "df.tail()"
   ]
  },
  {
   "cell_type": "markdown",
   "id": "46b97c59",
   "metadata": {},
   "source": [
    " "
   ]
  },
  {
   "cell_type": "markdown",
   "id": "62f39710",
   "metadata": {},
   "source": [
    "Create Date-Time function"
   ]
  },
  {
   "cell_type": "code",
   "execution_count": 5,
   "id": "f06b2e28",
   "metadata": {},
   "outputs": [],
   "source": [
    "def CombineDateAndTime(df,date_col,time_col,timestamp_col,datetime_col):\n",
    "    df[timestamp_col] = df[date_col]+\" \"+df[time_col]\n",
    "    df[timestamp_col] = pd.to_datetime(df[timestamp_col])\n",
    "    df[datetime_col] = df[timestamp_col]\n",
    "    df[date_col] = pd.to_datetime(df[date_col])\n",
    "    df = df.sort_values(timestamp_col, ascending=True)\n",
    "    return df"
   ]
  },
  {
   "cell_type": "markdown",
   "id": "086b58a9",
   "metadata": {},
   "source": [
    " "
   ]
  },
  {
   "cell_type": "markdown",
   "id": "e0fcba66",
   "metadata": {},
   "source": [
    "Create function for setting timestamp as DataFrame Index column"
   ]
  },
  {
   "cell_type": "code",
   "execution_count": 6,
   "id": "f9a0e8c4",
   "metadata": {},
   "outputs": [],
   "source": [
    "def setTimestampAsDFIndex(df,timestamp_col):\n",
    "    df = df.set_index(timestamp_col)\n",
    "    return df"
   ]
  },
  {
   "cell_type": "markdown",
   "id": "c0086c9b",
   "metadata": {},
   "source": [
    " "
   ]
  },
  {
   "cell_type": "markdown",
   "id": "110fe222",
   "metadata": {},
   "source": [
    "Ste values for necessary variables"
   ]
  },
  {
   "cell_type": "code",
   "execution_count": 7,
   "id": "ecc62915",
   "metadata": {},
   "outputs": [],
   "source": [
    "date_col ='Date'\n",
    "time_col='Time'\n",
    "timestamp_col='timestamp'\n",
    "datetime_col='DateTime'"
   ]
  },
  {
   "cell_type": "code",
   "execution_count": null,
   "id": "26e1ca63",
   "metadata": {},
   "outputs": [],
   "source": []
  },
  {
   "cell_type": "code",
   "execution_count": null,
   "id": "a467dbdf",
   "metadata": {},
   "outputs": [],
   "source": [
    "\n",
    "len = df.shape[0]\n",
    "data_end = len-1\n",
    "\n",
    "years_for_data = 1\n",
    "data_start = data_end-(525960*years_for_data) # 525960mins = 1 year, 1051920mins = 2 years, 1577880mins = 3 years, 2103840mins = 4 years, 2629800mins = 5 years\n",
    "\n",
    "print(len)\n",
    "print(data_start)\n",
    "print(data_end)"
   ]
  },
  {
   "cell_type": "markdown",
   "id": "58c9035b",
   "metadata": {},
   "source": [
    " "
   ]
  },
  {
   "cell_type": "markdown",
   "id": "be3ba498",
   "metadata": {},
   "source": [
    "Limit Data to the selected number of years"
   ]
  },
  {
   "cell_type": "code",
   "execution_count": null,
   "id": "ddfe471f",
   "metadata": {},
   "outputs": [],
   "source": [
    "#df_new = df[data_start:data_end]\n",
    "df_new = df\n",
    "df_new.tail()"
   ]
  },
  {
   "cell_type": "markdown",
   "id": "c8588c8f",
   "metadata": {},
   "source": [
    " "
   ]
  },
  {
   "cell_type": "markdown",
   "id": "a3423508",
   "metadata": {},
   "source": [
    "Set Date-Tame columns on DataFrame"
   ]
  },
  {
   "cell_type": "code",
   "execution_count": null,
   "id": "4cb21598",
   "metadata": {},
   "outputs": [],
   "source": [
    "df_new = CombineDateAndTime(df_new,date_col,time_col,timestamp_col,datetime_col)\n",
    "df_new.tail()"
   ]
  },
  {
   "cell_type": "markdown",
   "id": "3b37cb49",
   "metadata": {},
   "source": [
    " "
   ]
  },
  {
   "cell_type": "markdown",
   "id": "d5ec1347",
   "metadata": {},
   "source": [
    "Remove 2020 data from dataset (the dataset only has 4 months worth of 2020 data)"
   ]
  },
  {
   "cell_type": "code",
   "execution_count": null,
   "id": "3978d5e5",
   "metadata": {},
   "outputs": [],
   "source": [
    "df_new2 = df_new[(df_new['DateTime'] < '2020-01-01')]\n",
    "df_new2.tail()"
   ]
  },
  {
   "cell_type": "markdown",
   "id": "b56c0f1f",
   "metadata": {},
   "source": [
    " "
   ]
  },
  {
   "cell_type": "markdown",
   "id": "4d71f76d",
   "metadata": {},
   "source": [
    "Import 2020 to 2021 data"
   ]
  },
  {
   "cell_type": "code",
   "execution_count": null,
   "id": "2f70b550",
   "metadata": {},
   "outputs": [],
   "source": [
    "df2020_2021 = pd.read_csv('EURUSD_M1_2020-2021.csv')\n",
    "df2020_2021.head()"
   ]
  },
  {
   "cell_type": "markdown",
   "id": "c5887b00",
   "metadata": {},
   "source": [
    " "
   ]
  },
  {
   "cell_type": "markdown",
   "id": "e8577252",
   "metadata": {},
   "source": [
    "Assign the correct BCh column values"
   ]
  },
  {
   "cell_type": "code",
   "execution_count": null,
   "id": "b7ba8d17",
   "metadata": {},
   "outputs": [],
   "source": [
    "df2020_2021[\"BCh\"] = df2020_2021[\"BC\"]-df2020_2021[\"BO\"]\n",
    "df2020_2021.tail()"
   ]
  },
  {
   "cell_type": "markdown",
   "id": "a11402cb",
   "metadata": {},
   "source": [
    " "
   ]
  },
  {
   "cell_type": "code",
   "execution_count": 8,
   "id": "a585a078",
   "metadata": {},
   "outputs": [],
   "source": [
    "def setTimeColumns(df,timestamp_col,char_list,excluded_chars=[' ']):\n",
    "    \n",
    "    df[\"timestring\"] = df[timestamp_col]\n",
    "    a = -1\n",
    "    for charGroup in char_list:\n",
    "        a = a+1\n",
    "        \n",
    "        if charGroup[0] in excluded_chars:\n",
    "            df[\"timestring\"] = df['timestring'].str.slice(start=1)\n",
    "        else:\n",
    "            df[charGroup[0]] = df[\"timestring\"].str.slice(stop=charGroup[1])\n",
    "            df['timestring'] = df['timestring'].str.slice(start=charGroup[1])\n",
    "    \n",
    "        print(df.head())\n",
    "        \n",
    "    df = df.drop(columns=['timestring'])\n",
    "    \n",
    "    return df\n"
   ]
  },
  {
   "cell_type": "markdown",
   "id": "b6e9e529",
   "metadata": {},
   "source": [
    " "
   ]
  },
  {
   "cell_type": "markdown",
   "id": "6218a333",
   "metadata": {},
   "source": [
    "Create Date - Time columns"
   ]
  },
  {
   "cell_type": "code",
   "execution_count": 9,
   "id": "93c8ef3c",
   "metadata": {},
   "outputs": [],
   "source": [
    "timestamp_col = 'timestamp'\n",
    "date_col = 'Date'\n",
    "time_col = 'Time'\n",
    "dateTime_col = 'DateTime'\n",
    "year_col = 'year'\n",
    "month_col = 'month'\n",
    "day_col = 'day'\n",
    "hour_col = 'hour'\n",
    "minute_col = 'minute'\n",
    "second_col = 'second'\n",
    "char_list = [[year_col,4],[month_col,2],[day_col,2],[' ',1],[hour_col,2],[minute_col,2],[second_col,2]]"
   ]
  },
  {
   "cell_type": "code",
   "execution_count": null,
   "id": "590657de",
   "metadata": {},
   "outputs": [],
   "source": [
    "df2020_2021 = setTimeColumns(df2020_2021,timestamp_col,char_list)"
   ]
  },
  {
   "cell_type": "markdown",
   "id": "27440d6c",
   "metadata": {},
   "source": [
    "  "
   ]
  },
  {
   "cell_type": "markdown",
   "id": "b881988e",
   "metadata": {},
   "source": [
    "Create function for the creation of the **DateTime** and **timestamp** columns. "
   ]
  },
  {
   "cell_type": "code",
   "execution_count": 10,
   "id": "5f6858c3",
   "metadata": {},
   "outputs": [],
   "source": [
    "def setDateTimeColumns(df,timestamp_col,date_col,time_col,dateTime_col,year_col,month_col,day_col,hour_col,minute_col,second_col):\n",
    "    df[date_col] = df[year_col]+\"-\"+df[month_col]+\"-\"+df[day_col]\n",
    "    df[time_col] = df[hour_col]+\":\"+df[minute_col]+\":\"+df[second_col]\n",
    "    df[dateTime_col] = df[date_col]+\" \"+df[time_col]\n",
    "    \n",
    "    print(df.head())\n",
    "\n",
    "    df[date_col] = pd.to_datetime(df[date_col])\n",
    "    df[dateTime_col] = pd.to_datetime(df[dateTime_col])\n",
    "    df[timestamp_col] = df[dateTime_col]\n",
    "    df = df.drop(columns=[year_col,month_col,day_col,hour_col,minute_col,second_col])\n",
    "    return df"
   ]
  },
  {
   "cell_type": "markdown",
   "id": "cc458bbc",
   "metadata": {},
   "source": [
    " "
   ]
  },
  {
   "cell_type": "markdown",
   "id": "544adf01",
   "metadata": {},
   "source": [
    "Create **DateTime** and **timestamp** columns"
   ]
  },
  {
   "cell_type": "code",
   "execution_count": null,
   "id": "2638a4eb",
   "metadata": {},
   "outputs": [],
   "source": [
    "df2020_2021 = setDateTimeColumns(df2020_2021,timestamp_col,date_col,time_col,dateTime_col,year_col,month_col,day_col,hour_col,minute_col,second_col)\n",
    "df2020_2021.tail()"
   ]
  },
  {
   "cell_type": "markdown",
   "id": "40e61c20",
   "metadata": {},
   "source": [
    " "
   ]
  },
  {
   "cell_type": "markdown",
   "id": "5250f888",
   "metadata": {},
   "source": [
    "Combine 2020 to 2021 data with initial dataset"
   ]
  },
  {
   "cell_type": "code",
   "execution_count": null,
   "id": "ce5203b1",
   "metadata": {},
   "outputs": [],
   "source": [
    "df_full = df_new2.append(df2020_2021)\n",
    "df_full.head()"
   ]
  },
  {
   "cell_type": "markdown",
   "id": "fd348628",
   "metadata": {},
   "source": [
    " "
   ]
  },
  {
   "cell_type": "markdown",
   "id": "ffce949a",
   "metadata": {},
   "source": [
    "Drop all other unnecessary columns"
   ]
  },
  {
   "cell_type": "code",
   "execution_count": null,
   "id": "76920d21",
   "metadata": {},
   "outputs": [],
   "source": [
    "columns_to_drop = ['AO','AH','AL','AC','ACh']\n",
    "df_full = df_full.drop(columns=columns_to_drop)\n",
    "df_full.tail()"
   ]
  },
  {
   "cell_type": "markdown",
   "id": "cf0af28b",
   "metadata": {},
   "source": [
    " "
   ]
  },
  {
   "cell_type": "markdown",
   "id": "eb20daa5",
   "metadata": {},
   "source": [
    "Save full Dataframe to parquet file so that you won't have to do the previous steps again next time around."
   ]
  },
  {
   "cell_type": "code",
   "execution_count": 11,
   "id": "0d3fc474",
   "metadata": {},
   "outputs": [],
   "source": [
    "dataframe_parquet_file_name = 'EURUSD_2005_to_2021_dataset'"
   ]
  },
  {
   "cell_type": "code",
   "execution_count": null,
   "id": "58bd8be7",
   "metadata": {},
   "outputs": [],
   "source": [
    "saveDataframeToParquet(df_full, dataframe_parquet_file_name)"
   ]
  },
  {
   "cell_type": "code",
   "execution_count": 12,
   "id": "078c3672",
   "metadata": {},
   "outputs": [],
   "source": [
    "df_full = readSavedDataframes(dataframe_parquet_file_name)"
   ]
  },
  {
   "cell_type": "markdown",
   "id": "ca0322ea",
   "metadata": {},
   "source": [
    " "
   ]
  },
  {
   "cell_type": "markdown",
   "id": "e8713fa0",
   "metadata": {},
   "source": [
    "Set timestamp as DataFrame Index"
   ]
  },
  {
   "cell_type": "code",
   "execution_count": 13,
   "id": "0212e479",
   "metadata": {},
   "outputs": [
    {
     "data": {
      "text/html": [
       "<div>\n",
       "<style scoped>\n",
       "    .dataframe tbody tr th:only-of-type {\n",
       "        vertical-align: middle;\n",
       "    }\n",
       "\n",
       "    .dataframe tbody tr th {\n",
       "        vertical-align: top;\n",
       "    }\n",
       "\n",
       "    .dataframe thead th {\n",
       "        text-align: right;\n",
       "    }\n",
       "</style>\n",
       "<table border=\"1\" class=\"dataframe\">\n",
       "  <thead>\n",
       "    <tr style=\"text-align: right;\">\n",
       "      <th></th>\n",
       "      <th>Date</th>\n",
       "      <th>Time</th>\n",
       "      <th>BO</th>\n",
       "      <th>BH</th>\n",
       "      <th>BL</th>\n",
       "      <th>BC</th>\n",
       "      <th>BCh</th>\n",
       "      <th>DateTime</th>\n",
       "    </tr>\n",
       "    <tr>\n",
       "      <th>timestamp</th>\n",
       "      <th></th>\n",
       "      <th></th>\n",
       "      <th></th>\n",
       "      <th></th>\n",
       "      <th></th>\n",
       "      <th></th>\n",
       "      <th></th>\n",
       "      <th></th>\n",
       "    </tr>\n",
       "  </thead>\n",
       "  <tbody>\n",
       "    <tr>\n",
       "      <th>2021-04-09 16:54:00</th>\n",
       "      <td>2021-04-09</td>\n",
       "      <td>16:54:00</td>\n",
       "      <td>1.19010</td>\n",
       "      <td>1.19010</td>\n",
       "      <td>1.19006</td>\n",
       "      <td>1.19006</td>\n",
       "      <td>-0.00004</td>\n",
       "      <td>2021-04-09 16:54:00</td>\n",
       "    </tr>\n",
       "    <tr>\n",
       "      <th>2021-04-09 16:55:00</th>\n",
       "      <td>2021-04-09</td>\n",
       "      <td>16:55:00</td>\n",
       "      <td>1.19010</td>\n",
       "      <td>1.19011</td>\n",
       "      <td>1.19004</td>\n",
       "      <td>1.19011</td>\n",
       "      <td>0.00001</td>\n",
       "      <td>2021-04-09 16:55:00</td>\n",
       "    </tr>\n",
       "    <tr>\n",
       "      <th>2021-04-09 16:56:00</th>\n",
       "      <td>2021-04-09</td>\n",
       "      <td>16:56:00</td>\n",
       "      <td>1.19010</td>\n",
       "      <td>1.19015</td>\n",
       "      <td>1.19009</td>\n",
       "      <td>1.19010</td>\n",
       "      <td>0.00000</td>\n",
       "      <td>2021-04-09 16:56:00</td>\n",
       "    </tr>\n",
       "    <tr>\n",
       "      <th>2021-04-09 16:57:00</th>\n",
       "      <td>2021-04-09</td>\n",
       "      <td>16:57:00</td>\n",
       "      <td>1.19011</td>\n",
       "      <td>1.19017</td>\n",
       "      <td>1.19010</td>\n",
       "      <td>1.19015</td>\n",
       "      <td>0.00004</td>\n",
       "      <td>2021-04-09 16:57:00</td>\n",
       "    </tr>\n",
       "    <tr>\n",
       "      <th>2021-04-09 16:58:00</th>\n",
       "      <td>2021-04-09</td>\n",
       "      <td>16:58:00</td>\n",
       "      <td>1.19013</td>\n",
       "      <td>1.19013</td>\n",
       "      <td>1.18979</td>\n",
       "      <td>1.18992</td>\n",
       "      <td>-0.00021</td>\n",
       "      <td>2021-04-09 16:58:00</td>\n",
       "    </tr>\n",
       "  </tbody>\n",
       "</table>\n",
       "</div>"
      ],
      "text/plain": [
       "                          Date      Time       BO       BH       BL       BC  \\\n",
       "timestamp                                                                      \n",
       "2021-04-09 16:54:00 2021-04-09  16:54:00  1.19010  1.19010  1.19006  1.19006   \n",
       "2021-04-09 16:55:00 2021-04-09  16:55:00  1.19010  1.19011  1.19004  1.19011   \n",
       "2021-04-09 16:56:00 2021-04-09  16:56:00  1.19010  1.19015  1.19009  1.19010   \n",
       "2021-04-09 16:57:00 2021-04-09  16:57:00  1.19011  1.19017  1.19010  1.19015   \n",
       "2021-04-09 16:58:00 2021-04-09  16:58:00  1.19013  1.19013  1.18979  1.18992   \n",
       "\n",
       "                         BCh            DateTime  \n",
       "timestamp                                         \n",
       "2021-04-09 16:54:00 -0.00004 2021-04-09 16:54:00  \n",
       "2021-04-09 16:55:00  0.00001 2021-04-09 16:55:00  \n",
       "2021-04-09 16:56:00  0.00000 2021-04-09 16:56:00  \n",
       "2021-04-09 16:57:00  0.00004 2021-04-09 16:57:00  \n",
       "2021-04-09 16:58:00 -0.00021 2021-04-09 16:58:00  "
      ]
     },
     "execution_count": 13,
     "metadata": {},
     "output_type": "execute_result"
    }
   ],
   "source": [
    "df_full = setTimestampAsDFIndex(df_full,timestamp_col)\n",
    "df_full.tail()"
   ]
  },
  {
   "cell_type": "markdown",
   "id": "4b2f2dbe",
   "metadata": {},
   "source": [
    " "
   ]
  },
  {
   "cell_type": "markdown",
   "id": "f0b0660b",
   "metadata": {},
   "source": [
    " "
   ]
  },
  {
   "cell_type": "markdown",
   "id": "90567896",
   "metadata": {},
   "source": [
    "Create Diff column by subtracting the previous value of BC column from the current BC value"
   ]
  },
  {
   "cell_type": "code",
   "execution_count": 14,
   "id": "ff6bba0e",
   "metadata": {},
   "outputs": [
    {
     "data": {
      "text/html": [
       "<div>\n",
       "<style scoped>\n",
       "    .dataframe tbody tr th:only-of-type {\n",
       "        vertical-align: middle;\n",
       "    }\n",
       "\n",
       "    .dataframe tbody tr th {\n",
       "        vertical-align: top;\n",
       "    }\n",
       "\n",
       "    .dataframe thead th {\n",
       "        text-align: right;\n",
       "    }\n",
       "</style>\n",
       "<table border=\"1\" class=\"dataframe\">\n",
       "  <thead>\n",
       "    <tr style=\"text-align: right;\">\n",
       "      <th></th>\n",
       "      <th>Date</th>\n",
       "      <th>Time</th>\n",
       "      <th>BO</th>\n",
       "      <th>BH</th>\n",
       "      <th>BL</th>\n",
       "      <th>BC</th>\n",
       "      <th>BCh</th>\n",
       "      <th>DateTime</th>\n",
       "      <th>Diff</th>\n",
       "    </tr>\n",
       "    <tr>\n",
       "      <th>timestamp</th>\n",
       "      <th></th>\n",
       "      <th></th>\n",
       "      <th></th>\n",
       "      <th></th>\n",
       "      <th></th>\n",
       "      <th></th>\n",
       "      <th></th>\n",
       "      <th></th>\n",
       "      <th></th>\n",
       "    </tr>\n",
       "  </thead>\n",
       "  <tbody>\n",
       "    <tr>\n",
       "      <th>2021-04-09 16:54:00</th>\n",
       "      <td>2021-04-09</td>\n",
       "      <td>16:54:00</td>\n",
       "      <td>1.19010</td>\n",
       "      <td>1.19010</td>\n",
       "      <td>1.19006</td>\n",
       "      <td>1.19006</td>\n",
       "      <td>-0.00004</td>\n",
       "      <td>2021-04-09 16:54:00</td>\n",
       "      <td>-0.00005</td>\n",
       "    </tr>\n",
       "    <tr>\n",
       "      <th>2021-04-09 16:55:00</th>\n",
       "      <td>2021-04-09</td>\n",
       "      <td>16:55:00</td>\n",
       "      <td>1.19010</td>\n",
       "      <td>1.19011</td>\n",
       "      <td>1.19004</td>\n",
       "      <td>1.19011</td>\n",
       "      <td>0.00001</td>\n",
       "      <td>2021-04-09 16:55:00</td>\n",
       "      <td>0.00005</td>\n",
       "    </tr>\n",
       "    <tr>\n",
       "      <th>2021-04-09 16:56:00</th>\n",
       "      <td>2021-04-09</td>\n",
       "      <td>16:56:00</td>\n",
       "      <td>1.19010</td>\n",
       "      <td>1.19015</td>\n",
       "      <td>1.19009</td>\n",
       "      <td>1.19010</td>\n",
       "      <td>0.00000</td>\n",
       "      <td>2021-04-09 16:56:00</td>\n",
       "      <td>-0.00001</td>\n",
       "    </tr>\n",
       "    <tr>\n",
       "      <th>2021-04-09 16:57:00</th>\n",
       "      <td>2021-04-09</td>\n",
       "      <td>16:57:00</td>\n",
       "      <td>1.19011</td>\n",
       "      <td>1.19017</td>\n",
       "      <td>1.19010</td>\n",
       "      <td>1.19015</td>\n",
       "      <td>0.00004</td>\n",
       "      <td>2021-04-09 16:57:00</td>\n",
       "      <td>0.00005</td>\n",
       "    </tr>\n",
       "    <tr>\n",
       "      <th>2021-04-09 16:58:00</th>\n",
       "      <td>2021-04-09</td>\n",
       "      <td>16:58:00</td>\n",
       "      <td>1.19013</td>\n",
       "      <td>1.19013</td>\n",
       "      <td>1.18979</td>\n",
       "      <td>1.18992</td>\n",
       "      <td>-0.00021</td>\n",
       "      <td>2021-04-09 16:58:00</td>\n",
       "      <td>-0.00023</td>\n",
       "    </tr>\n",
       "  </tbody>\n",
       "</table>\n",
       "</div>"
      ],
      "text/plain": [
       "                          Date      Time       BO       BH       BL       BC  \\\n",
       "timestamp                                                                      \n",
       "2021-04-09 16:54:00 2021-04-09  16:54:00  1.19010  1.19010  1.19006  1.19006   \n",
       "2021-04-09 16:55:00 2021-04-09  16:55:00  1.19010  1.19011  1.19004  1.19011   \n",
       "2021-04-09 16:56:00 2021-04-09  16:56:00  1.19010  1.19015  1.19009  1.19010   \n",
       "2021-04-09 16:57:00 2021-04-09  16:57:00  1.19011  1.19017  1.19010  1.19015   \n",
       "2021-04-09 16:58:00 2021-04-09  16:58:00  1.19013  1.19013  1.18979  1.18992   \n",
       "\n",
       "                         BCh            DateTime     Diff  \n",
       "timestamp                                                  \n",
       "2021-04-09 16:54:00 -0.00004 2021-04-09 16:54:00 -0.00005  \n",
       "2021-04-09 16:55:00  0.00001 2021-04-09 16:55:00  0.00005  \n",
       "2021-04-09 16:56:00  0.00000 2021-04-09 16:56:00 -0.00001  \n",
       "2021-04-09 16:57:00  0.00004 2021-04-09 16:57:00  0.00005  \n",
       "2021-04-09 16:58:00 -0.00021 2021-04-09 16:58:00 -0.00023  "
      ]
     },
     "execution_count": 14,
     "metadata": {},
     "output_type": "execute_result"
    }
   ],
   "source": [
    "df_full[\"Diff\"] = df_full.BC.diff()\n",
    "df_full.tail()"
   ]
  },
  {
   "cell_type": "markdown",
   "id": "8ece5bcb",
   "metadata": {},
   "source": [
    " "
   ]
  },
  {
   "cell_type": "markdown",
   "id": "33b58d24",
   "metadata": {},
   "source": [
    "Create 5 minute moving average column MA5"
   ]
  },
  {
   "cell_type": "code",
   "execution_count": 15,
   "id": "f23b86fe",
   "metadata": {},
   "outputs": [
    {
     "data": {
      "text/html": [
       "<div>\n",
       "<style scoped>\n",
       "    .dataframe tbody tr th:only-of-type {\n",
       "        vertical-align: middle;\n",
       "    }\n",
       "\n",
       "    .dataframe tbody tr th {\n",
       "        vertical-align: top;\n",
       "    }\n",
       "\n",
       "    .dataframe thead th {\n",
       "        text-align: right;\n",
       "    }\n",
       "</style>\n",
       "<table border=\"1\" class=\"dataframe\">\n",
       "  <thead>\n",
       "    <tr style=\"text-align: right;\">\n",
       "      <th></th>\n",
       "      <th>Date</th>\n",
       "      <th>Time</th>\n",
       "      <th>BO</th>\n",
       "      <th>BH</th>\n",
       "      <th>BL</th>\n",
       "      <th>BC</th>\n",
       "      <th>BCh</th>\n",
       "      <th>DateTime</th>\n",
       "      <th>Diff</th>\n",
       "      <th>MA5</th>\n",
       "      <th>MA20</th>\n",
       "      <th>MA50</th>\n",
       "      <th>MA100</th>\n",
       "      <th>MA5Diff</th>\n",
       "      <th>MA20Diff</th>\n",
       "      <th>MA50Diff</th>\n",
       "      <th>MA100Diff</th>\n",
       "    </tr>\n",
       "    <tr>\n",
       "      <th>timestamp</th>\n",
       "      <th></th>\n",
       "      <th></th>\n",
       "      <th></th>\n",
       "      <th></th>\n",
       "      <th></th>\n",
       "      <th></th>\n",
       "      <th></th>\n",
       "      <th></th>\n",
       "      <th></th>\n",
       "      <th></th>\n",
       "      <th></th>\n",
       "      <th></th>\n",
       "      <th></th>\n",
       "      <th></th>\n",
       "      <th></th>\n",
       "      <th></th>\n",
       "      <th></th>\n",
       "    </tr>\n",
       "  </thead>\n",
       "  <tbody>\n",
       "    <tr>\n",
       "      <th>2021-04-09 16:54:00</th>\n",
       "      <td>2021-04-09</td>\n",
       "      <td>16:54:00</td>\n",
       "      <td>1.19010</td>\n",
       "      <td>1.19010</td>\n",
       "      <td>1.19006</td>\n",
       "      <td>1.19006</td>\n",
       "      <td>-0.00004</td>\n",
       "      <td>2021-04-09 16:54:00</td>\n",
       "      <td>-0.00005</td>\n",
       "      <td>1.190140</td>\n",
       "      <td>1.190180</td>\n",
       "      <td>1.190289</td>\n",
       "      <td>1.190319</td>\n",
       "      <td>-0.000040</td>\n",
       "      <td>-0.000012</td>\n",
       "      <td>-0.000005</td>\n",
       "      <td>-0.000003</td>\n",
       "    </tr>\n",
       "    <tr>\n",
       "      <th>2021-04-09 16:55:00</th>\n",
       "      <td>2021-04-09</td>\n",
       "      <td>16:55:00</td>\n",
       "      <td>1.19010</td>\n",
       "      <td>1.19011</td>\n",
       "      <td>1.19004</td>\n",
       "      <td>1.19011</td>\n",
       "      <td>0.00001</td>\n",
       "      <td>2021-04-09 16:55:00</td>\n",
       "      <td>0.00005</td>\n",
       "      <td>1.190120</td>\n",
       "      <td>1.190172</td>\n",
       "      <td>1.190285</td>\n",
       "      <td>1.190315</td>\n",
       "      <td>-0.000020</td>\n",
       "      <td>-0.000009</td>\n",
       "      <td>-0.000004</td>\n",
       "      <td>-0.000004</td>\n",
       "    </tr>\n",
       "    <tr>\n",
       "      <th>2021-04-09 16:56:00</th>\n",
       "      <td>2021-04-09</td>\n",
       "      <td>16:56:00</td>\n",
       "      <td>1.19010</td>\n",
       "      <td>1.19015</td>\n",
       "      <td>1.19009</td>\n",
       "      <td>1.19010</td>\n",
       "      <td>0.00000</td>\n",
       "      <td>2021-04-09 16:56:00</td>\n",
       "      <td>-0.00001</td>\n",
       "      <td>1.190106</td>\n",
       "      <td>1.190163</td>\n",
       "      <td>1.190283</td>\n",
       "      <td>1.190311</td>\n",
       "      <td>-0.000014</td>\n",
       "      <td>-0.000009</td>\n",
       "      <td>-0.000003</td>\n",
       "      <td>-0.000004</td>\n",
       "    </tr>\n",
       "    <tr>\n",
       "      <th>2021-04-09 16:57:00</th>\n",
       "      <td>2021-04-09</td>\n",
       "      <td>16:57:00</td>\n",
       "      <td>1.19011</td>\n",
       "      <td>1.19017</td>\n",
       "      <td>1.19010</td>\n",
       "      <td>1.19015</td>\n",
       "      <td>0.00004</td>\n",
       "      <td>2021-04-09 16:57:00</td>\n",
       "      <td>0.00005</td>\n",
       "      <td>1.190106</td>\n",
       "      <td>1.190159</td>\n",
       "      <td>1.190280</td>\n",
       "      <td>1.190309</td>\n",
       "      <td>0.000000</td>\n",
       "      <td>-0.000004</td>\n",
       "      <td>-0.000002</td>\n",
       "      <td>-0.000003</td>\n",
       "    </tr>\n",
       "    <tr>\n",
       "      <th>2021-04-09 16:58:00</th>\n",
       "      <td>2021-04-09</td>\n",
       "      <td>16:58:00</td>\n",
       "      <td>1.19013</td>\n",
       "      <td>1.19013</td>\n",
       "      <td>1.18979</td>\n",
       "      <td>1.18992</td>\n",
       "      <td>-0.00021</td>\n",
       "      <td>2021-04-09 16:58:00</td>\n",
       "      <td>-0.00023</td>\n",
       "      <td>1.190068</td>\n",
       "      <td>1.190143</td>\n",
       "      <td>1.190272</td>\n",
       "      <td>1.190304</td>\n",
       "      <td>-0.000038</td>\n",
       "      <td>-0.000015</td>\n",
       "      <td>-0.000008</td>\n",
       "      <td>-0.000005</td>\n",
       "    </tr>\n",
       "  </tbody>\n",
       "</table>\n",
       "</div>"
      ],
      "text/plain": [
       "                          Date      Time       BO       BH       BL       BC  \\\n",
       "timestamp                                                                      \n",
       "2021-04-09 16:54:00 2021-04-09  16:54:00  1.19010  1.19010  1.19006  1.19006   \n",
       "2021-04-09 16:55:00 2021-04-09  16:55:00  1.19010  1.19011  1.19004  1.19011   \n",
       "2021-04-09 16:56:00 2021-04-09  16:56:00  1.19010  1.19015  1.19009  1.19010   \n",
       "2021-04-09 16:57:00 2021-04-09  16:57:00  1.19011  1.19017  1.19010  1.19015   \n",
       "2021-04-09 16:58:00 2021-04-09  16:58:00  1.19013  1.19013  1.18979  1.18992   \n",
       "\n",
       "                         BCh            DateTime     Diff       MA5      MA20  \\\n",
       "timestamp                                                                       \n",
       "2021-04-09 16:54:00 -0.00004 2021-04-09 16:54:00 -0.00005  1.190140  1.190180   \n",
       "2021-04-09 16:55:00  0.00001 2021-04-09 16:55:00  0.00005  1.190120  1.190172   \n",
       "2021-04-09 16:56:00  0.00000 2021-04-09 16:56:00 -0.00001  1.190106  1.190163   \n",
       "2021-04-09 16:57:00  0.00004 2021-04-09 16:57:00  0.00005  1.190106  1.190159   \n",
       "2021-04-09 16:58:00 -0.00021 2021-04-09 16:58:00 -0.00023  1.190068  1.190143   \n",
       "\n",
       "                         MA50     MA100   MA5Diff  MA20Diff  MA50Diff  \\\n",
       "timestamp                                                               \n",
       "2021-04-09 16:54:00  1.190289  1.190319 -0.000040 -0.000012 -0.000005   \n",
       "2021-04-09 16:55:00  1.190285  1.190315 -0.000020 -0.000009 -0.000004   \n",
       "2021-04-09 16:56:00  1.190283  1.190311 -0.000014 -0.000009 -0.000003   \n",
       "2021-04-09 16:57:00  1.190280  1.190309  0.000000 -0.000004 -0.000002   \n",
       "2021-04-09 16:58:00  1.190272  1.190304 -0.000038 -0.000015 -0.000008   \n",
       "\n",
       "                     MA100Diff  \n",
       "timestamp                       \n",
       "2021-04-09 16:54:00  -0.000003  \n",
       "2021-04-09 16:55:00  -0.000004  \n",
       "2021-04-09 16:56:00  -0.000004  \n",
       "2021-04-09 16:57:00  -0.000003  \n",
       "2021-04-09 16:58:00  -0.000005  "
      ]
     },
     "execution_count": 15,
     "metadata": {},
     "output_type": "execute_result"
    }
   ],
   "source": [
    "df_full['MA5'] = df_full['BC'].rolling(5).mean()\n",
    "df_full['MA20'] = df_full['BC'].rolling(20).mean()\n",
    "df_full['MA50'] = df_full['BC'].rolling(50).mean()\n",
    "df_full['MA100'] = df_full['BC'].rolling(100).mean()\n",
    "df_full[\"MA5Diff\"] = df_full.MA5.diff()\n",
    "df_full[\"MA20Diff\"] = df_full.MA20.diff()\n",
    "df_full[\"MA50Diff\"] = df_full.MA50.diff()\n",
    "df_full[\"MA100Diff\"] = df_full.MA100.diff()\n",
    "df_full.tail()"
   ]
  },
  {
   "cell_type": "markdown",
   "id": "fc66749f",
   "metadata": {},
   "source": [
    " "
   ]
  },
  {
   "cell_type": "markdown",
   "id": "75c601db",
   "metadata": {},
   "source": []
  },
  {
   "cell_type": "code",
   "execution_count": 45,
   "id": "a9d1dd95",
   "metadata": {},
   "outputs": [
    {
     "name": "stdout",
     "output_type": "stream",
     "text": [
      "(5972867, 17)\n",
      "5972867\n",
      "2817106\n",
      "5972866\n"
     ]
    },
    {
     "data": {
      "text/plain": [
       "(3155760, 17)"
      ]
     },
     "execution_count": 45,
     "metadata": {},
     "output_type": "execute_result"
    }
   ],
   "source": [
    "\n",
    "length = df_full.shape[0]\n",
    "data_end = length-1\n",
    "\n",
    "years_for_data = 4\n",
    "data_start = data_end-(525960*years_for_data) # 525960mins = 1 year, 1051920mins = 2 years, 1577880mins = 3 years, 2103840mins = 4 years, 2629800mins = 5 years\n",
    "\n",
    "print(df_full.shape)\n",
    "print(length)\n",
    "print(data_start)\n",
    "print(data_end)\n",
    "\n",
    "#df_new = df_full[data_start:data_end]\n",
    "df_new = df_full[data_start:data_end]\n",
    "df_new.shape"
   ]
  },
  {
   "cell_type": "code",
   "execution_count": null,
   "id": "d65a00fd",
   "metadata": {},
   "outputs": [],
   "source": []
  },
  {
   "cell_type": "code",
   "execution_count": null,
   "id": "c958a24b",
   "metadata": {},
   "outputs": [],
   "source": []
  },
  {
   "cell_type": "markdown",
   "id": "94120bae",
   "metadata": {},
   "source": [
    " "
   ]
  },
  {
   "cell_type": "markdown",
   "id": "e6ab66b0",
   "metadata": {},
   "source": [
    " "
   ]
  },
  {
   "cell_type": "markdown",
   "id": "3c2b327e",
   "metadata": {},
   "source": [
    "Fit (train) the scaler"
   ]
  },
  {
   "cell_type": "code",
   "execution_count": 46,
   "id": "c2b50396",
   "metadata": {},
   "outputs": [],
   "source": [
    "scDiff = sc.fit(df_new[['Diff']])\n",
    "scMA5Diff = sc.fit(df_new[['MA5Diff']])\n",
    "scMA20Diff = sc.fit(df_new[['MA20Diff']])\n",
    "scMA50Diff = sc.fit(df_new[['MA50Diff']])\n",
    "scMA100Diff = sc.fit(df_new[['MA100Diff']])"
   ]
  },
  {
   "cell_type": "markdown",
   "id": "1a93978e",
   "metadata": {},
   "source": [
    "  "
   ]
  },
  {
   "cell_type": "markdown",
   "id": "8985715b",
   "metadata": {},
   "source": [
    "Split the data into train 80% and test 20%"
   ]
  },
  {
   "cell_type": "code",
   "execution_count": 47,
   "id": "24027b8a",
   "metadata": {},
   "outputs": [],
   "source": [
    "train_size = int(df_new.shape[0]*0.8)\n",
    "train_dataset, test_dataset = df_new.iloc[:train_size], df_new.iloc[train_size:]"
   ]
  },
  {
   "cell_type": "markdown",
   "id": "70820fb3",
   "metadata": {},
   "source": [
    "  "
   ]
  },
  {
   "cell_type": "markdown",
   "id": "596039f1",
   "metadata": {},
   "source": [
    "Separate the dataset into 'BC','MA5','MA5Diff','BullActivity' and 'BearActivity'"
   ]
  },
  {
   "cell_type": "code",
   "execution_count": 48,
   "id": "ee8c50bd",
   "metadata": {},
   "outputs": [],
   "source": [
    "df_train_Diff = train_dataset[[\"Diff\"]].copy()\n",
    "df_train_MA5Diff = train_dataset[[\"MA5Diff\"]].copy()\n",
    "df_train_MA20Diff = train_dataset[[\"MA20Diff\"]].copy()\n",
    "df_train_MA50Diff = train_dataset[[\"MA50Diff\"]].copy()\n",
    "df_train_MA100Diff = train_dataset[[\"MA100Diff\"]].copy()\n",
    "\n",
    "df_test_Diff = test_dataset[[\"Diff\"]].copy()\n",
    "df_test_MA5Diff = test_dataset[[\"MA5Diff\"]].copy()\n",
    "df_test_MA20Diff = test_dataset[[\"MA20Diff\"]].copy()\n",
    "df_test_MA50Diff = test_dataset[[\"MA50Diff\"]].copy()\n",
    "df_test_MA100Diff = test_dataset[[\"MA100Diff\"]].copy()"
   ]
  },
  {
   "cell_type": "markdown",
   "id": "b424f023",
   "metadata": {},
   "source": [
    " "
   ]
  },
  {
   "cell_type": "markdown",
   "id": "2a448222",
   "metadata": {},
   "source": [
    "Replace NaN with zeros"
   ]
  },
  {
   "cell_type": "code",
   "execution_count": 49,
   "id": "b4602100",
   "metadata": {},
   "outputs": [],
   "source": [
    "df_train_Diff[\"Diff\"] = df_train_Diff[\"Diff\"].fillna(0)\n",
    "df_train_MA5Diff[\"MA5Diff\"] = df_train_MA5Diff[\"MA5Diff\"].fillna(0)\n",
    "df_train_MA20Diff[\"MA20Diff\"] = df_train_MA20Diff[\"MA20Diff\"].fillna(0)\n",
    "df_train_MA50Diff[\"MA50Diff\"] = df_train_MA50Diff[\"MA50Diff\"].fillna(0)\n",
    "df_train_MA100Diff[\"MA100Diff\"] = df_train_MA100Diff[\"MA100Diff\"].fillna(0)\n",
    "\n",
    "df_train_Diff[\"Diff\"] = df_train_Diff[\"Diff\"].fillna(0)\n",
    "df_train_MA5Diff[\"MA5Diff\"] = df_train_MA5Diff[\"MA5Diff\"].fillna(0)\n",
    "df_train_MA20Diff[\"MA20Diff\"] = df_train_MA20Diff[\"MA20Diff\"].fillna(0)\n",
    "df_train_MA50Diff[\"MA50Diff\"] = df_train_MA50Diff[\"MA50Diff\"].fillna(0)\n",
    "df_train_MA100Diff[\"MA100Diff\"] = df_train_MA100Diff[\"MA100Diff\"].fillna(0)"
   ]
  },
  {
   "cell_type": "markdown",
   "id": "7be7946f",
   "metadata": {},
   "source": [
    " "
   ]
  },
  {
   "cell_type": "markdown",
   "id": "4ce76f39",
   "metadata": {},
   "source": [
    "Scale the datasets"
   ]
  },
  {
   "cell_type": "code",
   "execution_count": 50,
   "id": "06c0e112",
   "metadata": {},
   "outputs": [],
   "source": [
    "df_train_Diff_scaled = scDiff.transform(df_train_Diff)\n",
    "df_train_MA5Diff_scaled = scMA5Diff.transform(df_train_MA5Diff)\n",
    "df_train_MA20Diff_scaled = scMA20Diff.transform(df_train_MA20Diff)\n",
    "df_train_MA50Diff_scaled = scMA50Diff.transform(df_train_MA50Diff)\n",
    "df_train_MA100Diff_scaled = scMA100Diff.transform(df_train_MA100Diff)\n",
    "\n",
    "df_test_Diff_scaled = scDiff.transform(df_test_Diff)\n",
    "df_test_MA5Diff_scaled = scMA5Diff.transform(df_test_MA5Diff)\n",
    "df_test_MA20Diff_scaled = scMA20Diff.transform(df_test_MA20Diff)\n",
    "df_test_MA50Diff_scaled = scMA50Diff.transform(df_test_MA50Diff)\n",
    "df_test_MA100Diff_scaled = scMA100Diff.transform(df_test_MA100Diff)"
   ]
  },
  {
   "cell_type": "markdown",
   "id": "3553677f",
   "metadata": {},
   "source": [
    " "
   ]
  },
  {
   "cell_type": "markdown",
   "id": "b5199d1d",
   "metadata": {},
   "source": [
    "Create function for creating input dataset"
   ]
  },
  {
   "cell_type": "code",
   "execution_count": 51,
   "id": "97ccc593",
   "metadata": {},
   "outputs": [],
   "source": [
    "def create_dataset (X, look_back = 1):\n",
    "    Xs, ys = [], []\n",
    "\n",
    "    num = X.size\n",
    " \n",
    "    for i in range(num-look_back):\n",
    "        v = X[i:i+look_back]\n",
    "        Xs.append(v)\n",
    "        ys.append(X[i+look_back])\n",
    " \n",
    "    return np.array(Xs), np.array(ys)"
   ]
  },
  {
   "cell_type": "markdown",
   "id": "80713d01",
   "metadata": {},
   "source": [
    " "
   ]
  },
  {
   "cell_type": "markdown",
   "id": "cdb6e4bb",
   "metadata": {},
   "source": [
    "Create input datasets"
   ]
  },
  {
   "cell_type": "code",
   "execution_count": 52,
   "id": "34222c45",
   "metadata": {},
   "outputs": [
    {
     "name": "stdout",
     "output_type": "stream",
     "text": [
      "x_train_Diff.shape =  (2524578, 30, 1)\n",
      "y_train_Diff.shape =  (2524578, 1)\n",
      "x_train_MA5Diff.shape =  (2524578, 30, 1)\n",
      "y_train_MA5Diff.shape =  (2524578, 1)\n",
      "x_test_Diff.shape =  (631122, 30, 1)\n",
      "y_test_Diff.shape =  (631122, 1)\n",
      "x_test_MA5Diff.shape =  (631122, 30, 1)\n",
      "y_test_MA5Diff.shape =  (631122, 1)\n"
     ]
    }
   ],
   "source": [
    "LOOK_BACK = 30\n",
    "x_train_Diff, y_train_Diff = create_dataset(df_train_Diff_scaled,LOOK_BACK)\n",
    "x_train_MA5Diff, y_train_MA5Diff = create_dataset(df_train_MA5Diff_scaled,LOOK_BACK)\n",
    "x_train_MA20Diff, y_train_MA20Diff = create_dataset(df_train_MA20Diff_scaled,LOOK_BACK)\n",
    "x_train_MA50Diff, y_train_MA50Diff = create_dataset(df_train_MA50Diff_scaled,LOOK_BACK)\n",
    "x_train_MA100Diff, y_train_MA100Diff = create_dataset(df_train_MA100Diff_scaled,LOOK_BACK)\n",
    "\n",
    "x_test_Diff, y_test_Diff = create_dataset(df_test_Diff_scaled,LOOK_BACK)\n",
    "x_test_MA5Diff, y_test_MA5Diff = create_dataset(df_test_MA5Diff_scaled,LOOK_BACK)\n",
    "x_test_MA20Diff, y_test_MA20Diff = create_dataset(df_test_MA20Diff_scaled,LOOK_BACK)\n",
    "x_test_MA50Diff, y_test_MA50Diff = create_dataset(df_test_MA50Diff_scaled,LOOK_BACK)\n",
    "x_test_MA100Diff, y_test_MA100Diff = create_dataset(df_test_MA100Diff_scaled,LOOK_BACK)\n",
    "\n",
    "# Print data shape\n",
    "print('x_train_Diff.shape = ',x_train_Diff.shape)\n",
    "print('y_train_Diff.shape = ',y_train_Diff.shape)\n",
    "print('x_train_MA5Diff.shape = ',x_train_MA5Diff.shape)\n",
    "print('y_train_MA5Diff.shape = ',y_train_MA5Diff.shape)\n",
    "\n",
    "\n",
    "print('x_test_Diff.shape = ',x_test_Diff.shape)\n",
    "print('y_test_Diff.shape = ',y_test_Diff.shape)\n",
    "print('x_test_MA5Diff.shape = ',x_test_MA5Diff.shape)\n",
    "print('y_test_MA5Diff.shape = ',y_test_MA5Diff.shape) "
   ]
  },
  {
   "cell_type": "code",
   "execution_count": 31,
   "id": "922faa0a",
   "metadata": {},
   "outputs": [],
   "source": [
    "from numpy import asarray\n",
    "from numpy import save\n",
    "\n",
    "save('x_train_Diff.npy',x_train_Diff)\n",
    "save('x_train_MA5Diff.npy',x_train_MA5Diff)\n",
    "save('x_train_MA20Diff.npy',x_train_MA20Diff)\n",
    "save('x_train_MA50Diff.npy',x_train_MA50Diff)\n",
    "save('x_train_MA100Diff.npy',x_train_MA100Diff)\n",
    "\n",
    "save('y_train_Diff.npy',y_train_Diff)\n",
    "save('y_train_MA5Diff.npy',y_train_MA5Diff)\n",
    "save('y_train_MA20Diff.npy',y_train_MA20Diff)\n",
    "save('y_train_MA50Diff.npy',y_train_MA50Diff)\n",
    "save('y_train_MA100Diff.npy',y_train_MA100Diff)\n",
    "\n",
    "########  test  #######################\n",
    "save('x_test_Diff.npy',x_test_Diff)\n",
    "save('x_test_MA5Diff.npy',x_test_MA5Diff)\n",
    "save('x_test_MA20Diff.npy',x_test_MA20Diff)\n",
    "save('x_test_MA50Diff.npy',x_test_MA50Diff)\n",
    "save('x_test_MA100Diff.npy',x_test_MA100Diff)\n",
    "\n",
    "save('y_test_Diff.npy',y_test_Diff)\n",
    "save('y_test_MA5Diff.npy',y_test_MA5Diff)\n",
    "save('y_test_MA20Diff.npy',y_test_MA20Diff)\n",
    "save('y_test_MA50Diff.npy',y_test_MA50Diff)\n",
    "save('y_test_MA100Diff.npy',y_test_MA100Diff)"
   ]
  },
  {
   "cell_type": "markdown",
   "id": "7f71f537",
   "metadata": {},
   "source": [
    " "
   ]
  },
  {
   "cell_type": "code",
   "execution_count": null,
   "id": "b5177bb1",
   "metadata": {},
   "outputs": [],
   "source": [
    "from numpy import load\n",
    "\n",
    "y_test_MA100Diff = load('y_test_MA100Diff.npy')"
   ]
  },
  {
   "cell_type": "code",
   "execution_count": null,
   "id": "cfb1c9b5",
   "metadata": {},
   "outputs": [],
   "source": [
    "import tensorflow as tf\n",
    "import tensorflow.keras.backend as K\n",
    "from tensorflow.keras.models import Sequential\n",
    "from tensorflow.keras.callbacks import EarlyStopping\n",
    "from tensorflow.keras.optimizers import Adam\n",
    "from tensorflow.keras.layers import GRU, LSTM, Bidirectional, Dense, Dropout\n",
    "import tensorflow.keras as keras"
   ]
  },
  {
   "cell_type": "markdown",
   "id": "166d8574",
   "metadata": {},
   "source": [
    "Create models"
   ]
  },
  {
   "cell_type": "code",
   "execution_count": 53,
   "id": "90bf7162",
   "metadata": {},
   "outputs": [],
   "source": [
    "import tensorflow.keras as keras\n",
    "\n",
    "# Create BiLSTM model\n",
    "def create_bilstm(units,X_train):\n",
    "    model = Sequential()\n",
    "    # Input layer\n",
    "    model.add(Bidirectional(LSTM(units = units, return_sequences=True), input_shape=(X_train.shape[1], X_train.shape[2])))\n",
    "    # Hidden layer\n",
    "    model.add(Bidirectional(LSTM(units = units)))\n",
    "    model.add(Dense(1))\n",
    "    #Compile model\n",
    "    model.compile(optimizer='adam',loss='mse')\n",
    "    return model\n",
    "\n",
    "\n",
    "# Create GRU model\n",
    "def create_gru(units,X_train):\n",
    "    model = Sequential()\n",
    "    # Input layer\n",
    "    model.add(GRU(units = units, return_sequences = True, input_shape = [X_train.shape[1], X_train.shape[2]]))\n",
    "    model.add(Dropout(0.2)) \n",
    "    # Hidden layer\n",
    "    model.add(GRU(units = units)) \n",
    "    model.add(Dropout(0.2))\n",
    "    model.add(Dense(units = 1)) \n",
    "    #Compile model\n",
    "    model.compile(optimizer='adam',loss='mse')\n",
    "    return model\n",
    "\n",
    "\n",
    "#optimizer='adam',loss='mse'\n",
    "# Create GRU-LSTM model\n",
    "def create_gru_lstm(gru_units,lstm_units,X_train,optimizer,loss):\n",
    "    model = Sequential()\n",
    "    # Input layer\n",
    "    model.add(GRU(units = gru_units, return_sequences = True, input_shape = [X_train.shape[1], X_train.shape[2]]))\n",
    "    model.add(Dropout(0.2)) \n",
    "\n",
    "    # Hidden layer\n",
    "    model.add(LSTM (units = lstm_units))\n",
    "    model.add(Dropout(0.2)) \n",
    "    #model.add(GRU(units = gru_units)) \n",
    "    #model.add(Dropout(0.2))\n",
    "    model.add(Dense(units = 1)) \n",
    "    #Compile model\n",
    "    model.compile(optimizer=optimizer,loss=loss)\n",
    "    return model\n"
   ]
  },
  {
   "cell_type": "markdown",
   "id": "2677d1aa",
   "metadata": {},
   "source": [
    " "
   ]
  },
  {
   "cell_type": "markdown",
   "id": "615181cc",
   "metadata": {},
   "source": [
    "Set model variables"
   ]
  },
  {
   "cell_type": "code",
   "execution_count": 54,
   "id": "041cb2df",
   "metadata": {},
   "outputs": [],
   "source": [
    "n_steps = LOOK_BACK-1\n",
    "n_inputs = 4\n",
    "n_neurons = 128\n",
    "n_outputs = 4\n",
    "n_layers = 2\n",
    "learning_rate = 0.001\n",
    "batch_size = 50\n",
    "n_epochs = 100\n",
    "\n",
    "my_optimizer='adam'\n",
    "patience=10\n",
    "verbose=1\n",
    "loss='mse'\n",
    "\n",
    "# GRU & LSTM Model Units/Neurons\n",
    "gru_units = 20\n",
    "#lstm_units = 256\n",
    "lstm_units = 64"
   ]
  },
  {
   "cell_type": "markdown",
   "id": "1c798783",
   "metadata": {},
   "source": [
    " "
   ]
  },
  {
   "cell_type": "markdown",
   "id": "75017ef9",
   "metadata": {},
   "source": [
    "Create GRU-LSTM Model"
   ]
  },
  {
   "cell_type": "code",
   "execution_count": 55,
   "id": "8f742af5",
   "metadata": {},
   "outputs": [
    {
     "name": "stdout",
     "output_type": "stream",
     "text": [
      "Model: \"sequential_6\"\n",
      "_________________________________________________________________\n",
      "Layer (type)                 Output Shape              Param #   \n",
      "=================================================================\n",
      "gru_6 (GRU)                  (None, 30, 20)            1380      \n",
      "_________________________________________________________________\n",
      "dropout_8 (Dropout)          (None, 30, 20)            0         \n",
      "_________________________________________________________________\n",
      "lstm_6 (LSTM)                (None, 64)                21760     \n",
      "_________________________________________________________________\n",
      "dropout_9 (Dropout)          (None, 64)                0         \n",
      "_________________________________________________________________\n",
      "dense_6 (Dense)              (None, 1)                 65        \n",
      "=================================================================\n",
      "Total params: 23,205\n",
      "Trainable params: 23,205\n",
      "Non-trainable params: 0\n",
      "_________________________________________________________________\n"
     ]
    }
   ],
   "source": [
    "Diff_model_gru_lstm = create_gru_lstm(gru_units,lstm_units,x_train_Diff)\n",
    "Diff_model_gru_lstm.summary()"
   ]
  },
  {
   "cell_type": "markdown",
   "id": "a4f8b127",
   "metadata": {},
   "source": [
    " "
   ]
  },
  {
   "cell_type": "markdown",
   "id": "f933d3c4",
   "metadata": {},
   "source": [
    "Create GRU Model"
   ]
  },
  {
   "cell_type": "code",
   "execution_count": 56,
   "id": "02cb3887",
   "metadata": {},
   "outputs": [
    {
     "name": "stdout",
     "output_type": "stream",
     "text": [
      "Model: \"sequential_7\"\n",
      "_________________________________________________________________\n",
      "Layer (type)                 Output Shape              Param #   \n",
      "=================================================================\n",
      "gru_7 (GRU)                  (None, 30, 128)           50304     \n",
      "_________________________________________________________________\n",
      "dropout_10 (Dropout)         (None, 30, 128)           0         \n",
      "_________________________________________________________________\n",
      "gru_8 (GRU)                  (None, 128)               99072     \n",
      "_________________________________________________________________\n",
      "dropout_11 (Dropout)         (None, 128)               0         \n",
      "_________________________________________________________________\n",
      "dense_7 (Dense)              (None, 1)                 129       \n",
      "=================================================================\n",
      "Total params: 149,505\n",
      "Trainable params: 149,505\n",
      "Non-trainable params: 0\n",
      "_________________________________________________________________\n"
     ]
    }
   ],
   "source": [
    "Diff_model_gru = create_gru(n_neurons,x_train_Diff)\n",
    "Diff_model_gru.summary()"
   ]
  },
  {
   "cell_type": "markdown",
   "id": "5ab21e40",
   "metadata": {},
   "source": [
    " "
   ]
  },
  {
   "cell_type": "markdown",
   "id": "5cd53856",
   "metadata": {},
   "source": [
    "Create BiLSTM Model"
   ]
  },
  {
   "cell_type": "code",
   "execution_count": 57,
   "id": "49ef0a1b",
   "metadata": {},
   "outputs": [
    {
     "name": "stdout",
     "output_type": "stream",
     "text": [
      "Model: \"sequential_8\"\n",
      "_________________________________________________________________\n",
      "Layer (type)                 Output Shape              Param #   \n",
      "=================================================================\n",
      "bidirectional_4 (Bidirection (None, 30, 256)           133120    \n",
      "_________________________________________________________________\n",
      "bidirectional_5 (Bidirection (None, 256)               394240    \n",
      "_________________________________________________________________\n",
      "dense_8 (Dense)              (None, 1)                 257       \n",
      "=================================================================\n",
      "Total params: 527,617\n",
      "Trainable params: 527,617\n",
      "Non-trainable params: 0\n",
      "_________________________________________________________________\n"
     ]
    }
   ],
   "source": [
    "Diff_model_bilstm = create_bilstm(n_neurons,x_train_Diff)\n",
    "Diff_model_bilstm.summary()"
   ]
  },
  {
   "cell_type": "markdown",
   "id": "1eeb2202",
   "metadata": {},
   "source": [
    " "
   ]
  },
  {
   "cell_type": "markdown",
   "id": "04db63b8",
   "metadata": {},
   "source": [
    "Create function for training the model"
   ]
  },
  {
   "cell_type": "code",
   "execution_count": 58,
   "id": "9f4d7391",
   "metadata": {},
   "outputs": [],
   "source": [
    "def fit_model(model,X_train,y_train,epochs,batch_size,patience,optimizer,loss):\n",
    "    early_stop = keras.callbacks.EarlyStopping(monitor = 'val_loss', patience = patience)\n",
    "    model.compile(\n",
    "        optimizer=optimizer,\n",
    "        loss=loss\n",
    "    )\n",
    "    history = model.fit(X_train, y_train, epochs = epochs,\n",
    "                        validation_split = 0.3,\n",
    "                        batch_size = batch_size, shuffle = False, \n",
    "                        callbacks = [early_stop])\n",
    "    return history"
   ]
  },
  {
   "cell_type": "markdown",
   "id": "a816365d",
   "metadata": {},
   "source": [
    " "
   ]
  },
  {
   "cell_type": "markdown",
   "id": "7034b853",
   "metadata": {},
   "source": [
    "Create function for making predictions"
   ]
  },
  {
   "cell_type": "code",
   "execution_count": 59,
   "id": "6980bdbb",
   "metadata": {},
   "outputs": [],
   "source": [
    "def prediction(model,scaler,x_test):\n",
    "    prediction = model.predict(x_test)\n",
    "    prediction = scaler.inverse_transform(prediction)\n",
    "    return prediction"
   ]
  },
  {
   "cell_type": "markdown",
   "id": "2459160d",
   "metadata": {},
   "source": [
    " "
   ]
  },
  {
   "cell_type": "code",
   "execution_count": 62,
   "id": "82276a61",
   "metadata": {},
   "outputs": [
    {
     "name": "stdout",
     "output_type": "stream",
     "text": [
      "Epoch 1/100\n",
      "35345/35345 [==============================] - 1297s 37ms/step - loss: 140.2206 - val_loss: 83.8850\n",
      "Epoch 2/100\n",
      "35345/35345 [==============================] - 1277s 36ms/step - loss: 140.2219 - val_loss: 83.8747\n",
      "Epoch 3/100\n",
      "35345/35345 [==============================] - 1279s 36ms/step - loss: 140.2164 - val_loss: 83.8656\n",
      "Epoch 4/100\n",
      "35345/35345 [==============================] - 1287s 36ms/step - loss: 140.2093 - val_loss: 83.8777\n",
      "Epoch 5/100\n",
      "35345/35345 [==============================] - 1288s 36ms/step - loss: 140.2082 - val_loss: 83.8642\n",
      "Epoch 6/100\n",
      "35345/35345 [==============================] - 1296s 37ms/step - loss: 140.2018 - val_loss: 83.8589\n",
      "Epoch 7/100\n",
      "35345/35345 [==============================] - 1291s 37ms/step - loss: 140.1983 - val_loss: 83.8620\n",
      "Epoch 8/100\n",
      "35345/35345 [==============================] - 1311s 37ms/step - loss: 140.2129 - val_loss: 83.8732\n",
      "Epoch 9/100\n",
      "35345/35345 [==============================] - 1283s 36ms/step - loss: 140.2188 - val_loss: 83.8631\n",
      "Epoch 10/100\n",
      "35345/35345 [==============================] - 1310s 37ms/step - loss: 140.1884 - val_loss: 83.8654\n",
      "Epoch 11/100\n",
      "35345/35345 [==============================] - 1311s 37ms/step - loss: 140.2286 - val_loss: 83.8671\n",
      "Epoch 12/100\n",
      "35345/35345 [==============================] - 1318s 37ms/step - loss: 140.2171 - val_loss: 83.8632\n",
      "Epoch 13/100\n",
      "35345/35345 [==============================] - 1324s 37ms/step - loss: 140.2172 - val_loss: 83.8632\n",
      "Epoch 14/100\n",
      "35345/35345 [==============================] - 1337s 38ms/step - loss: 140.2198 - val_loss: 83.8786\n",
      "Epoch 15/100\n",
      "35345/35345 [==============================] - 1342s 38ms/step - loss: 140.2010 - val_loss: 83.8678\n",
      "Epoch 16/100\n",
      "35345/35345 [==============================] - 1357s 38ms/step - loss: 140.2119 - val_loss: 83.8568\n",
      "Epoch 17/100\n",
      "35345/35345 [==============================] - 1349s 38ms/step - loss: 140.2060 - val_loss: 83.8631\n",
      "Epoch 18/100\n",
      "35345/35345 [==============================] - 1351s 38ms/step - loss: 140.2198 - val_loss: 83.8628\n",
      "Epoch 19/100\n",
      "35345/35345 [==============================] - 1348s 38ms/step - loss: 140.2249 - val_loss: 83.8823\n",
      "Epoch 20/100\n",
      "35345/35345 [==============================] - 1320s 37ms/step - loss: 140.2188 - val_loss: 83.8737\n",
      "Epoch 21/100\n",
      "35345/35345 [==============================] - 1314s 37ms/step - loss: 140.2104 - val_loss: 83.8634\n",
      "Epoch 22/100\n",
      "35345/35345 [==============================] - 1295s 37ms/step - loss: 140.1993 - val_loss: 83.8739\n",
      "Epoch 23/100\n",
      "35345/35345 [==============================] - 1266s 36ms/step - loss: 140.2185 - val_loss: 83.8891\n",
      "Epoch 24/100\n",
      "35345/35345 [==============================] - 1274s 36ms/step - loss: 140.2100 - val_loss: 83.8719\n",
      "Epoch 25/100\n",
      "35345/35345 [==============================] - 1265s 36ms/step - loss: 140.2026 - val_loss: 83.8731\n",
      "Epoch 26/100\n",
      "35345/35345 [==============================] - 1278s 36ms/step - loss: 140.2263 - val_loss: 83.8806\n"
     ]
    }
   ],
   "source": [
    "gru_lstm_Diff_trained = fit_model(Diff_model_gru_lstm,x_train_Diff,y_train_Diff,n_epochs,batch_size,patience)"
   ]
  },
  {
   "cell_type": "code",
   "execution_count": 89,
   "id": "d5edf5be",
   "metadata": {},
   "outputs": [],
   "source": [
    "def get_compiled_model(model,optimizer,loss,metrics):\n",
    "    model.compile(\n",
    "        optimizer=optimizer,\n",
    "        loss=loss,\n",
    "        metrics=metrics,\n",
    "    )\n",
    "    return model"
   ]
  },
  {
   "cell_type": "code",
   "execution_count": 91,
   "id": "6f859d0b",
   "metadata": {},
   "outputs": [
    {
     "ename": "AttributeError",
     "evalue": "'History' object has no attribute 'compile'",
     "output_type": "error",
     "traceback": [
      "\u001b[1;31m---------------------------------------------------------------------------\u001b[0m",
      "\u001b[1;31mAttributeError\u001b[0m                            Traceback (most recent call last)",
      "\u001b[1;32m<ipython-input-91-94f55751b6e5>\u001b[0m in \u001b[0;36m<module>\u001b[1;34m\u001b[0m\n\u001b[0;32m      2\u001b[0m \u001b[0mmetrics\u001b[0m\u001b[1;33m=\u001b[0m\u001b[1;33m[\u001b[0m\u001b[1;34m\"mean_squared_error\"\u001b[0m\u001b[1;33m]\u001b[0m\u001b[1;33m\u001b[0m\u001b[1;33m\u001b[0m\u001b[0m\n\u001b[0;32m      3\u001b[0m \u001b[0moptimizer\u001b[0m \u001b[1;33m=\u001b[0m \u001b[1;34m\"adam\"\u001b[0m\u001b[1;33m\u001b[0m\u001b[1;33m\u001b[0m\u001b[0m\n\u001b[1;32m----> 4\u001b[1;33m \u001b[0mgru_lstm_Diff_trained_compiled\u001b[0m \u001b[1;33m=\u001b[0m \u001b[0mget_compiled_model\u001b[0m\u001b[1;33m(\u001b[0m\u001b[0mgru_lstm_Diff_trained\u001b[0m\u001b[1;33m,\u001b[0m\u001b[0moptimizer\u001b[0m\u001b[1;33m,\u001b[0m\u001b[0mloss\u001b[0m\u001b[1;33m,\u001b[0m\u001b[0mmetrics\u001b[0m\u001b[1;33m)\u001b[0m\u001b[1;33m\u001b[0m\u001b[1;33m\u001b[0m\u001b[0m\n\u001b[0m",
      "\u001b[1;32m<ipython-input-89-7e170b5bfad9>\u001b[0m in \u001b[0;36mget_compiled_model\u001b[1;34m(model, optimizer, loss, metricsx)\u001b[0m\n\u001b[0;32m      1\u001b[0m \u001b[1;32mdef\u001b[0m \u001b[0mget_compiled_model\u001b[0m\u001b[1;33m(\u001b[0m\u001b[0mmodel\u001b[0m\u001b[1;33m,\u001b[0m\u001b[0moptimizer\u001b[0m\u001b[1;33m,\u001b[0m\u001b[0mloss\u001b[0m\u001b[1;33m,\u001b[0m\u001b[0mmetricsx\u001b[0m\u001b[1;33m)\u001b[0m\u001b[1;33m:\u001b[0m\u001b[1;33m\u001b[0m\u001b[1;33m\u001b[0m\u001b[0m\n\u001b[1;32m----> 2\u001b[1;33m     model.compile(\n\u001b[0m\u001b[0;32m      3\u001b[0m         \u001b[0moptimizer\u001b[0m\u001b[1;33m=\u001b[0m\u001b[0moptimizer\u001b[0m\u001b[1;33m,\u001b[0m\u001b[1;33m\u001b[0m\u001b[1;33m\u001b[0m\u001b[0m\n\u001b[0;32m      4\u001b[0m         \u001b[0mloss\u001b[0m\u001b[1;33m=\u001b[0m\u001b[0mloss\u001b[0m\u001b[1;33m,\u001b[0m\u001b[1;33m\u001b[0m\u001b[1;33m\u001b[0m\u001b[0m\n\u001b[0;32m      5\u001b[0m         \u001b[0mmetrics\u001b[0m\u001b[1;33m=\u001b[0m\u001b[0mmetricsx\u001b[0m\u001b[1;33m,\u001b[0m\u001b[1;33m\u001b[0m\u001b[1;33m\u001b[0m\u001b[0m\n",
      "\u001b[1;31mAttributeError\u001b[0m: 'History' object has no attribute 'compile'"
     ]
    }
   ],
   "source": [
    "loss='mse'\n",
    "metrics=[\"mean_squared_error\"]\n",
    "optimizer = \"adam\"\n",
    "gru_lstm_Diff_trained_compiled = get_compiled_model(gru_lstm_Diff_trained,optimizer,loss,metrics)\n"
   ]
  },
  {
   "cell_type": "code",
   "execution_count": 84,
   "id": "f7bb902e",
   "metadata": {},
   "outputs": [
    {
     "data": {
      "text/plain": [
       "<tensorflow.python.keras.callbacks.History at 0x9a03160f70>"
      ]
     },
     "execution_count": 84,
     "metadata": {},
     "output_type": "execute_result"
    }
   ],
   "source": [
    "\n",
    "\n",
    "gru_lstm_Diff_trained.save(\"gru_lstm_Diff_model.h5\")\n",
    "\n",
    "#keras.models.save_model(gru_lstm_Diff_trained, \"gru_lstm_Diff_model.hdf5\", overwrite=True, include_optimizer=True, save_format=None, save_traces=True)"
   ]
  },
  {
   "cell_type": "code",
   "execution_count": null,
   "id": "43a1a865",
   "metadata": {},
   "outputs": [],
   "source": []
  },
  {
   "cell_type": "markdown",
   "id": "3a258048",
   "metadata": {},
   "source": [
    "Train the GRU Model on Diff data"
   ]
  },
  {
   "cell_type": "code",
   "execution_count": null,
   "id": "f4a47243",
   "metadata": {},
   "outputs": [
    {
     "name": "stdout",
     "output_type": "stream",
     "text": [
      "Epoch 1/100\n",
      "47276/66896 [====================>.........] - ETA: 28:38 - loss: 110.1755"
     ]
    }
   ],
   "source": [
    "gru_Diff_trained = fit_model(Diff_model_gru,x_train_Diff,y_train_Diff,n_epochs,batch_size,patience)\n",
    "gru_Diff_trained.save(\"gru_Diff_model\")"
   ]
  },
  {
   "cell_type": "markdown",
   "id": "f3b3b101",
   "metadata": {},
   "source": [
    " "
   ]
  },
  {
   "cell_type": "markdown",
   "id": "5499a561",
   "metadata": {},
   "source": [
    "Train the GRU Model on MA5Diff data"
   ]
  },
  {
   "cell_type": "code",
   "execution_count": null,
   "id": "fe45a5be",
   "metadata": {},
   "outputs": [],
   "source": [
    "gru_MA5Diff_trained = fit_model(model_gru,x_train_MA5Diff,y_train_MA5Diff,n_epochs,batch_size,patience)\n",
    "gru_MA5Diff_trained.save(\"gru_MA5Diff_model\")"
   ]
  },
  {
   "cell_type": "markdown",
   "id": "641f4ba2",
   "metadata": {},
   "source": [
    " "
   ]
  },
  {
   "cell_type": "markdown",
   "id": "64cc7d9e",
   "metadata": {},
   "source": [
    "Test the Diff-trained GRU model on Diff data"
   ]
  },
  {
   "cell_type": "code",
   "execution_count": null,
   "id": "fe4124b0",
   "metadata": {},
   "outputs": [],
   "source": [
    "prediction_gru_Diff_trained = prediction(gru_Diff_trained,sc,x_test_Diff)\n"
   ]
  },
  {
   "cell_type": "markdown",
   "id": "d32460bd",
   "metadata": {},
   "source": [
    " "
   ]
  },
  {
   "cell_type": "markdown",
   "id": "5af01b10",
   "metadata": {},
   "source": [
    "Test the MA5Diff-trained GRU model on Diff data"
   ]
  },
  {
   "cell_type": "code",
   "execution_count": null,
   "id": "74e42493",
   "metadata": {},
   "outputs": [],
   "source": [
    "prediction_gru_MA5Diff_trained = prediction(gru_MA5Diff_trained,sc,x_test_Diff)"
   ]
  },
  {
   "cell_type": "markdown",
   "id": "86993e09",
   "metadata": {},
   "source": [
    " "
   ]
  },
  {
   "cell_type": "code",
   "execution_count": null,
   "id": "ba0976de",
   "metadata": {},
   "outputs": [],
   "source": []
  }
 ],
 "metadata": {
  "kernelspec": {
   "display_name": "Python 3",
   "language": "python",
   "name": "python3"
  },
  "language_info": {
   "codemirror_mode": {
    "name": "ipython",
    "version": 3
   },
   "file_extension": ".py",
   "mimetype": "text/x-python",
   "name": "python",
   "nbconvert_exporter": "python",
   "pygments_lexer": "ipython3",
   "version": "3.8.7"
  }
 },
 "nbformat": 4,
 "nbformat_minor": 5
}
